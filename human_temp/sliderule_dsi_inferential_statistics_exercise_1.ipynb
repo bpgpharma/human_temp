{
 "cells": [
  {
   "cell_type": "markdown",
   "metadata": {},
   "source": [
    "# What is the True Normal Human Body Temperature? \n",
    "\n",
    "#### Background\n",
    "\n",
    "The mean normal body temperature was held to be 37$^{\\circ}$C or 98.6$^{\\circ}$F for more than 120 years since it was first conceptualized and reported by Carl Wunderlich in a famous 1868 book. But, is this value statistically correct?"
   ]
  },
  {
   "cell_type": "markdown",
   "metadata": {},
   "source": [
    "<h3>Exercises</h3>\n",
    "\n",
    "<p>In this exercise, you will analyze a dataset of human body temperatures and employ the concepts of hypothesis testing, confidence intervals, and statistical significance.</p>\n",
    "\n",
    "<p>Answer the following questions <b>in this notebook below and submit to your Github account</b>.</p> \n",
    "\n",
    "<ol>\n",
    "<li>  Is the distribution of body temperatures normal? \n",
    "    <ul>\n",
    "    <li> Although this is not a requirement for CLT to hold (read CLT carefully), it gives us some peace of mind that the population may also be normally distributed if we assume that this sample is representative of the population.\n",
    "    </ul>\n",
    "<li>  Is the sample size large? Are the observations independent?\n",
    "    <ul>\n",
    "    <li> Remember that this is a condition for the CLT, and hence the statistical tests we are using, to apply.\n",
    "    </ul>\n",
    "<li>  Is the true population mean really 98.6 degrees F?\n",
    "    <ul>\n",
    "    <li> Would you use a one-sample or two-sample test? Why?\n",
    "    <li> In this situation, is it appropriate to use the $t$ or $z$ statistic? \n",
    "    <li> Now try using the other test. How is the result be different? Why?\n",
    "    </ul>\n",
    "<li>  Draw a small sample of size 10 from the data and repeat both tests. \n",
    "    <ul>\n",
    "    <li> Which one is the correct one to use? \n",
    "    <li> What do you notice? What does this tell you about the difference in application of the $t$ and $z$ statistic?\n",
    "    </ul>\n",
    "<li>  At what temperature should we consider someone's temperature to be \"abnormal\"?\n",
    "    <ul>\n",
    "    <li> Start by computing the margin of error and confidence interval.\n",
    "    </ul>\n",
    "<li>  Is there a significant difference between males and females in normal temperature?\n",
    "    <ul>\n",
    "    <li> What test did you use and why?\n",
    "    <li> Write a story with your conclusion in the context of the original problem.\n",
    "    </ul>\n",
    "</ol>\n",
    "\n",
    "You can include written notes in notebook cells using Markdown: \n",
    "   - In the control panel at the top, choose Cell > Cell Type > Markdown\n",
    "   - Markdown syntax: http://nestacms.com/docs/creating-content/markdown-cheat-sheet\n",
    "\n",
    "#### Resources\n",
    "\n",
    "+ Information and data sources: http://www.amstat.org/publications/jse/datasets/normtemp.txt, http://www.amstat.org/publications/jse/jse_data_archive.htm\n",
    "+ Markdown syntax: http://nestacms.com/docs/creating-content/markdown-cheat-sheet\n",
    "\n",
    "****"
   ]
  },
  {
   "cell_type": "code",
   "execution_count": 1,
   "metadata": {},
   "outputs": [],
   "source": [
    "import pandas as pd\n",
    "import numpy as np\n",
    "import matplotlib.pyplot as plt\n",
    "import matplotlib.mlab as mlab\n",
    "import numpy.random as random\n",
    "from scipy import stats\n",
    "\n",
    "%matplotlib inline\n",
    "\n",
    "def precision(variable, digits):\n",
    "    return np.float('{variable:.{precision}f}'.format(variable=variable, precision=digits))\n",
    "\n",
    "def get_p(t, dof, tails=2):\n",
    "\n",
    "    \"\"\"\n",
    "    return p-value\n",
    "    tails = 0: left tail\n",
    "    tails = 1: right tail\n",
    "    tails = 2: two-sided [Default]\n",
    "    \"\"\"\n",
    "       \n",
    "    if tails == 0: #left tail\n",
    "        p = stats.t.cdf(t, dof)\n",
    "    elif tails == 1: #right tail\n",
    "        p = 1 - stats.t.cdf(t, dof)\n",
    "    else: #two-sided\n",
    "        p = 2*(1-stats.t.cdf(abs(t), dof))\n",
    "                \n",
    "    return p\n",
    "\n",
    "\n",
    "\n",
    "def t_test(sample, mu, tails=2):\n",
    "    \n",
    "    \"\"\"\n",
    "    one sample t-test\n",
    "    tails = 0: left tail\n",
    "    tails = 1: right tail\n",
    "    tails = 2: two-sided [Default]\n",
    "    mu = H_0: null hypothesis\n",
    "    \"\"\"\n",
    "    \n",
    "    sample_mean = np.mean(sample)\n",
    "    sample_var = np.var(sample, ddof=1) # (N_samples - ddof) i.e. (N - 1)\n",
    "    #sample_sem = np.sqrt((sample_var / len(sample)))\n",
    "    sample_sem = stats.sem(sample)\n",
    "    t = (sample_mean - mu)/sample_sem\n",
    "    \n",
    "    dof = len(sample) - 1\n",
    "    \"\"\"\n",
    "    if tails == 0: #left tail\n",
    "        p = stats.t.cdf(t, dof)\n",
    "    elif tails == 1: #right tail\n",
    "        p = 1 - stats.t.cdf(t, dof)\n",
    "    else: #two-sided\n",
    "        p = 2*(1-stats.t.cdf(abs(t), dof))\n",
    "    \"\"\"\n",
    "    p = get_p(t, dof, tails)\n",
    "    \n",
    "    return (t, p)\n",
    "\n",
    "def t_test_2sample(sample1, sample2, tails=2, paired=0):\n",
    "    \n",
    "    \"\"\"\n",
    "    two sample t-test\n",
    "    tails = 0: left tail\n",
    "    tails = 1: right tail\n",
    "    tails = 2: two-sided [Default]\n",
    "    \n",
    "    paired = 0: independent [Default]\n",
    "    paired = 1\n",
    "    \"\"\"\n",
    "    if paired:\n",
    "        diff = np.subtract(sample1, sample2)\n",
    "        (t, p) = t_test(diff, 0, tails)\n",
    "    else:\n",
    "        n1 = len(sample1)\n",
    "        n2 = len(sample2)\n",
    "        sample_mean1 = np.mean(sample1)\n",
    "        sample_mean2 = np.mean(sample2)\n",
    "        sample_var1 = np.var(sample1, ddof=1) # (N_samples - ddof) i.e. (N - 1)\n",
    "        sample_var2 = np.var(sample2, ddof=1)\n",
    "        #sample_sem = np.sqrt((sample_var / len(sample)))\n",
    "        sample_sem = np.sqrt((sample_var1 / n1) + (sample_var2 / n2))\n",
    "        t = (sample_mean1 - sample_mean2)/sample_sem\n",
    "    \n",
    "        dof = (n1 - 1) + (n2 - 1)\n",
    "        p = get_p(t, dof, tails)\n",
    "             \n",
    "    return (t, p)\n",
    "\n",
    "\n",
    "def mean_confidence_interval_t(sample, confidence=0.95):\n",
    "    n = len(sample)\n",
    "    sample_mean = np.mean(sample)\n",
    "    #sample_var = np.var(sample, ddof=1) # (N_samples - ddof) i.e. (N - 1)\n",
    "    #sample_sem = (sample_var / len(sample)) ** 0.5\n",
    "    sample_sem = stats.sem(sample)\n",
    "    delta = sample_sem * stats.t.ppf((1+confidence)/2., n-1)\n",
    "    return sample_mean, sample_sem, sample_mean - delta, sample_mean + delta\n",
    "\n",
    "def mean_confidence_interval_norm(sample, confidence=0.95):\n",
    "    n = len(sample)\n",
    "    sample_mean = np.mean(sample)\n",
    "    #sample_var = np.var(sample, ddof=1) # (N_samples - ddof) i.e. (N - 1)\n",
    "    #sample_sem = (sample_var / len(sample)) ** 0.5\n",
    "    sample_sem = stats.sem(sample)\n",
    "    delta = sample_sem * stats.norm.ppf((1+confidence)/2.)\n",
    "    return sample_mean, sample_sem, sample_mean - delta, sample_mean + delta\n",
    "    \n",
    "\n",
    "df = pd.read_csv('data/human_body_temperature.csv')\n",
    "\n",
    "H_0 = 98.6"
   ]
  },
  {
   "cell_type": "code",
   "execution_count": 2,
   "metadata": {},
   "outputs": [
    {
     "data": {
      "text/html": [
       "<div>\n",
       "<style>\n",
       "    .dataframe thead tr:only-child th {\n",
       "        text-align: right;\n",
       "    }\n",
       "\n",
       "    .dataframe thead th {\n",
       "        text-align: left;\n",
       "    }\n",
       "\n",
       "    .dataframe tbody tr th {\n",
       "        vertical-align: top;\n",
       "    }\n",
       "</style>\n",
       "<table border=\"1\" class=\"dataframe\">\n",
       "  <thead>\n",
       "    <tr style=\"text-align: right;\">\n",
       "      <th></th>\n",
       "      <th>temperature</th>\n",
       "      <th>gender</th>\n",
       "      <th>heart_rate</th>\n",
       "    </tr>\n",
       "  </thead>\n",
       "  <tbody>\n",
       "    <tr>\n",
       "      <th>count</th>\n",
       "      <td>130.000000</td>\n",
       "      <td>130</td>\n",
       "      <td>130.000000</td>\n",
       "    </tr>\n",
       "    <tr>\n",
       "      <th>unique</th>\n",
       "      <td>NaN</td>\n",
       "      <td>2</td>\n",
       "      <td>NaN</td>\n",
       "    </tr>\n",
       "    <tr>\n",
       "      <th>top</th>\n",
       "      <td>NaN</td>\n",
       "      <td>M</td>\n",
       "      <td>NaN</td>\n",
       "    </tr>\n",
       "    <tr>\n",
       "      <th>freq</th>\n",
       "      <td>NaN</td>\n",
       "      <td>65</td>\n",
       "      <td>NaN</td>\n",
       "    </tr>\n",
       "    <tr>\n",
       "      <th>mean</th>\n",
       "      <td>98.249231</td>\n",
       "      <td>NaN</td>\n",
       "      <td>73.761538</td>\n",
       "    </tr>\n",
       "    <tr>\n",
       "      <th>std</th>\n",
       "      <td>0.733183</td>\n",
       "      <td>NaN</td>\n",
       "      <td>7.062077</td>\n",
       "    </tr>\n",
       "    <tr>\n",
       "      <th>min</th>\n",
       "      <td>96.300000</td>\n",
       "      <td>NaN</td>\n",
       "      <td>57.000000</td>\n",
       "    </tr>\n",
       "    <tr>\n",
       "      <th>25%</th>\n",
       "      <td>97.800000</td>\n",
       "      <td>NaN</td>\n",
       "      <td>69.000000</td>\n",
       "    </tr>\n",
       "    <tr>\n",
       "      <th>50%</th>\n",
       "      <td>98.300000</td>\n",
       "      <td>NaN</td>\n",
       "      <td>74.000000</td>\n",
       "    </tr>\n",
       "    <tr>\n",
       "      <th>75%</th>\n",
       "      <td>98.700000</td>\n",
       "      <td>NaN</td>\n",
       "      <td>79.000000</td>\n",
       "    </tr>\n",
       "    <tr>\n",
       "      <th>max</th>\n",
       "      <td>100.800000</td>\n",
       "      <td>NaN</td>\n",
       "      <td>89.000000</td>\n",
       "    </tr>\n",
       "  </tbody>\n",
       "</table>\n",
       "</div>"
      ],
      "text/plain": [
       "        temperature gender  heart_rate\n",
       "count    130.000000    130  130.000000\n",
       "unique          NaN      2         NaN\n",
       "top             NaN      M         NaN\n",
       "freq            NaN     65         NaN\n",
       "mean      98.249231    NaN   73.761538\n",
       "std        0.733183    NaN    7.062077\n",
       "min       96.300000    NaN   57.000000\n",
       "25%       97.800000    NaN   69.000000\n",
       "50%       98.300000    NaN   74.000000\n",
       "75%       98.700000    NaN   79.000000\n",
       "max      100.800000    NaN   89.000000"
      ]
     },
     "execution_count": 2,
     "metadata": {},
     "output_type": "execute_result"
    }
   ],
   "source": [
    "all_stats = df.describe(include='all')\n",
    "all_stats"
   ]
  },
  {
   "cell_type": "code",
   "execution_count": 3,
   "metadata": {},
   "outputs": [
    {
     "data": {
      "text/html": [
       "<div>\n",
       "<style>\n",
       "    .dataframe thead tr:only-child th {\n",
       "        text-align: right;\n",
       "    }\n",
       "\n",
       "    .dataframe thead th {\n",
       "        text-align: left;\n",
       "    }\n",
       "\n",
       "    .dataframe tbody tr th {\n",
       "        vertical-align: top;\n",
       "    }\n",
       "</style>\n",
       "<table border=\"1\" class=\"dataframe\">\n",
       "  <thead>\n",
       "    <tr style=\"text-align: right;\">\n",
       "      <th></th>\n",
       "      <th>temperature</th>\n",
       "      <th>gender</th>\n",
       "      <th>heart_rate</th>\n",
       "    </tr>\n",
       "  </thead>\n",
       "  <tbody>\n",
       "    <tr>\n",
       "      <th>0</th>\n",
       "      <td>99.3</td>\n",
       "      <td>F</td>\n",
       "      <td>68.0</td>\n",
       "    </tr>\n",
       "    <tr>\n",
       "      <th>1</th>\n",
       "      <td>98.4</td>\n",
       "      <td>F</td>\n",
       "      <td>81.0</td>\n",
       "    </tr>\n",
       "    <tr>\n",
       "      <th>2</th>\n",
       "      <td>97.8</td>\n",
       "      <td>M</td>\n",
       "      <td>73.0</td>\n",
       "    </tr>\n",
       "    <tr>\n",
       "      <th>3</th>\n",
       "      <td>99.2</td>\n",
       "      <td>F</td>\n",
       "      <td>66.0</td>\n",
       "    </tr>\n",
       "    <tr>\n",
       "      <th>4</th>\n",
       "      <td>98.0</td>\n",
       "      <td>F</td>\n",
       "      <td>73.0</td>\n",
       "    </tr>\n",
       "  </tbody>\n",
       "</table>\n",
       "</div>"
      ],
      "text/plain": [
       "   temperature gender  heart_rate\n",
       "0         99.3      F        68.0\n",
       "1         98.4      F        81.0\n",
       "2         97.8      M        73.0\n",
       "3         99.2      F        66.0\n",
       "4         98.0      F        73.0"
      ]
     },
     "execution_count": 3,
     "metadata": {},
     "output_type": "execute_result"
    }
   ],
   "source": [
    "df.head()"
   ]
  },
  {
   "cell_type": "code",
   "execution_count": 4,
   "metadata": {},
   "outputs": [],
   "source": [
    "MF_bins = np.int(np.ceil(len(df.temperature)/10))\n",
    "MF_temp = df.temperature.sort_values().reset_index(drop=True)\n",
    "F_temp = df.temperature[df.gender=='F'].sort_values().reset_index(drop=True)\n",
    "M_temp = df.temperature[df.gender=='M'].sort_values().reset_index(drop=True)"
   ]
  },
  {
   "cell_type": "code",
   "execution_count": 5,
   "metadata": {},
   "outputs": [
    {
     "data": {
      "text/plain": [
       "count    130.000000\n",
       "mean      98.249231\n",
       "std        0.733183\n",
       "min       96.300000\n",
       "25%       97.800000\n",
       "50%       98.300000\n",
       "75%       98.700000\n",
       "max      100.800000\n",
       "Name: temperature, dtype: float64"
      ]
     },
     "execution_count": 5,
     "metadata": {},
     "output_type": "execute_result"
    }
   ],
   "source": [
    "MF_stats = MF_temp.describe()\n",
    "MF_stats"
   ]
  },
  {
   "cell_type": "code",
   "execution_count": 6,
   "metadata": {},
   "outputs": [
    {
     "data": {
      "text/plain": [
       "count     65.000000\n",
       "mean      98.393846\n",
       "std        0.743488\n",
       "min       96.400000\n",
       "25%       98.000000\n",
       "50%       98.400000\n",
       "75%       98.800000\n",
       "max      100.800000\n",
       "Name: temperature, dtype: float64"
      ]
     },
     "execution_count": 6,
     "metadata": {},
     "output_type": "execute_result"
    }
   ],
   "source": [
    "F_stats = F_temp.describe()\n",
    "F_stats"
   ]
  },
  {
   "cell_type": "code",
   "execution_count": 7,
   "metadata": {},
   "outputs": [
    {
     "data": {
      "text/plain": [
       "count    65.000000\n",
       "mean     98.104615\n",
       "std       0.698756\n",
       "min      96.300000\n",
       "25%      97.600000\n",
       "50%      98.100000\n",
       "75%      98.600000\n",
       "max      99.500000\n",
       "Name: temperature, dtype: float64"
      ]
     },
     "execution_count": 7,
     "metadata": {},
     "output_type": "execute_result"
    }
   ],
   "source": [
    "M_stats = M_temp.describe()\n",
    "M_stats"
   ]
  },
  {
   "cell_type": "code",
   "execution_count": 8,
   "metadata": {},
   "outputs": [
    {
     "data": {
      "image/png": "[encoded data removed]",
      "text/plain": [
       "<matplotlib.figure.Figure at 0x7f477c4539b0>"
      ]
     },
     "metadata": {},
     "output_type": "display_data"
    }
   ],
   "source": [
    "_ = plt.hist(MF_temp, bins=MF_bins, normed=False)\n",
    "\n",
    "_ = plt.xlabel('Temperature \\u00B0F')\n",
    "_ = plt.ylabel('Counts')\n",
    "_ = plt.title('Human Body Temperature Male & Female')\n",
    "\n",
    "plt.show()"
   ]
  },
  {
   "cell_type": "code",
   "execution_count": 9,
   "metadata": {},
   "outputs": [
    {
     "data": {
      "image/png": "[encoded data removed]",
      "text/plain": [
       "<matplotlib.figure.Figure at 0x7f47474f4898>"
      ]
     },
     "metadata": {},
     "output_type": "display_data"
    }
   ],
   "source": [
    "dft, t_bins, nrm = plt.hist(MF_temp, bins=MF_bins, normed=True)\n",
    "\n",
    "t_norm = mlab.normpdf(t_bins, MF_stats['mean'], MF_stats['std'])\n",
    "\n",
    "plt.plot(t_bins, t_norm, '--')\n",
    "\n",
    "_ = plt.xlabel('Temperature \\u00B0F')\n",
    "_ = plt.ylabel('Normalized Counts')\n",
    "_ = plt.title('Human Body Temperature Male & Female')\n",
    "_ = plt.legend(['N(\\u03BC,\\u03C3)', 'all data'])\n",
    "\n",
    "plt.show()"
   ]
  },
  {
   "cell_type": "code",
   "execution_count": 10,
   "metadata": {},
   "outputs": [],
   "source": [
    "F_bins = np.int(np.ceil(len(F_temp)/10))\n",
    "M_bins = np.int(np.ceil(len(M_temp)/10))"
   ]
  },
  {
   "cell_type": "code",
   "execution_count": 11,
   "metadata": {
    "scrolled": true
   },
   "outputs": [
    {
     "data": {
      "image/png": "[encoded data removed]",
      "text/plain": [
       "<matplotlib.figure.Figure at 0x7f47473d33c8>"
      ]
     },
     "metadata": {},
     "output_type": "display_data"
    }
   ],
   "source": [
    "_ = plt.hist(F_temp, bins=F_bins, normed=False, color='pink', alpha=0.9)\n",
    "\n",
    "_ = plt.hist(M_temp, bins=M_bins, normed=False, color='blue', alpha=0.45)\n",
    "\n",
    "_ = plt.xlabel('Temperature \\u00B0F')\n",
    "_ = plt.ylabel('Counts')\n",
    "_ = plt.title('Human Body Temperature Male | Female')\n",
    "_ = plt.legend(['Female', 'Male'])\n",
    "\n",
    "plt.show()"
   ]
  },
  {
   "cell_type": "code",
   "execution_count": 12,
   "metadata": {
    "scrolled": true
   },
   "outputs": [
    {
     "data": {
      "image/png": "[encoded data removed]",
      "text/plain": [
       "<matplotlib.figure.Figure at 0x7f47473cb8d0>"
      ]
     },
     "metadata": {},
     "output_type": "display_data"
    }
   ],
   "source": [
    "dft, tF_bins, nrm = plt.hist(F_temp, bins=F_bins, normed=True, color='pink', alpha=0.9)\n",
    "\n",
    "tF_norm = mlab.normpdf(tF_bins, F_stats['mean'] , F_stats['std'])\n",
    "\n",
    "plt.plot(tF_bins, tF_norm, '--', color='pink')\n",
    "\n",
    "dft, tM_bins, nrm = plt.hist(M_temp, bins=M_bins, normed=True, color='blue', alpha=0.45)\n",
    "\n",
    "tM_norm = mlab.normpdf(tM_bins, M_stats['mean'] , M_stats['std'])\n",
    "\n",
    "plt.plot(tM_bins, tM_norm, '--', color='blue')\n",
    "\n",
    "_ = plt.xlabel('Temperature \\u00B0F')\n",
    "_ = plt.ylabel('Normalized Counts')\n",
    "_ = plt.title('Human Body Temperature Male | Female')\n",
    "_ = plt.legend(['N(\\u03BC,\\u03C3) Female', 'N(\\u03BC,\\u03C3) Male', 'Female data', 'Male data'])\n",
    "\n",
    "plt.show()"
   ]
  },
  {
   "cell_type": "code",
   "execution_count": 13,
   "metadata": {},
   "outputs": [],
   "source": [
    "#norm = np.sort(random.normal(MF_stats['mean'], MF_stats['std'], len(MF_temp)))\n",
    "norm = np.sort(random.normal(0, 1, len(MF_temp)))"
   ]
  },
  {
   "cell_type": "code",
   "execution_count": 14,
   "metadata": {
    "scrolled": true
   },
   "outputs": [
    {
     "data": {
      "image/png": "[encoded data removed]",
      "text/plain": [
       "<matplotlib.figure.Figure at 0x7f4747525ba8>"
      ]
     },
     "metadata": {},
     "output_type": "display_data"
    }
   ],
   "source": [
    "_ = plt.plot(norm, MF_temp, 'o')\n",
    "\n",
    "z = np.polyfit(norm, MF_temp, 1)\n",
    "p = np.poly1d(z)\n",
    "\n",
    "_ = plt.plot(norm, p(norm), '--', linewidth=2)\n",
    "\n",
    "_ = plt.title(\"Normal Q-Q plot: Male & Female\")\n",
    "_ = plt.xlabel(\"Theoretical quantiles\")\n",
    "_ = plt.ylabel(\"Expreimental quantiles\")\n",
    "_ = plt.legend(['all data', 'N(0,1)'])\n",
    "\n",
    "plt.show()"
   ]
  },
  {
   "cell_type": "code",
   "execution_count": 15,
   "metadata": {},
   "outputs": [],
   "source": [
    "norm = np.sort(random.normal(0, 1, len(F_temp)))"
   ]
  },
  {
   "cell_type": "code",
   "execution_count": 16,
   "metadata": {},
   "outputs": [
    {
     "data": {
      "image/png": "[encoded data removed]",
      "text/plain": [
       "<matplotlib.figure.Figure at 0x7f474729ec88>"
      ]
     },
     "metadata": {},
     "output_type": "display_data"
    }
   ],
   "source": [
    "_ = plt.plot(norm, F_temp, 'o')\n",
    "\n",
    "z = np.polyfit(norm, F_temp, 1)\n",
    "p = np.poly1d(z)\n",
    "\n",
    "_ = plt.plot(norm, p(norm), '--', linewidth=2)\n",
    "\n",
    "_ = plt.title(\"Normal Q-Q plot: Female\")\n",
    "_ = plt.xlabel(\"Theoretical quantiles\")\n",
    "_ = plt.ylabel(\"Expreimental quantiles\")\n",
    "_ = plt.legend(['all data', 'N(0,1)'])\n",
    "\n",
    "plt.show()"
   ]
  },
  {
   "cell_type": "code",
   "execution_count": 17,
   "metadata": {},
   "outputs": [],
   "source": [
    "norm = np.sort(random.normal(0, 1, len(M_temp)))"
   ]
  },
  {
   "cell_type": "code",
   "execution_count": 18,
   "metadata": {},
   "outputs": [
    {
     "data": {
      "image/png": "[encoded data removed]",
      "text/plain": [
       "<matplotlib.figure.Figure at 0x7f474660eda0>"
      ]
     },
     "metadata": {},
     "output_type": "display_data"
    }
   ],
   "source": [
    "_ = plt.plot(norm, M_temp, 'o')\n",
    "\n",
    "z = np.polyfit(norm, M_temp, 1)\n",
    "p = np.poly1d(z)\n",
    "\n",
    "_ = plt.plot(norm, p(norm), '--', linewidth=2)\n",
    "\n",
    "_ = plt.title(\"Normal Q-Q plot: Male\")\n",
    "_ = plt.xlabel(\"Theoretical quantiles\")\n",
    "_ = plt.ylabel(\"Expreimental quantiles\")\n",
    "_ = plt.legend(['all data', 'N(0,1)'])\n",
    "\n",
    "plt.show()"
   ]
  },
  {
   "cell_type": "code",
   "execution_count": 19,
   "metadata": {},
   "outputs": [
    {
     "data": {
      "text/plain": [
       "-1.9785244914586051"
      ]
     },
     "execution_count": 19,
     "metadata": {},
     "output_type": "execute_result"
    }
   ],
   "source": [
    "stats.t.ppf(1-0.975, 129)"
   ]
  },
  {
   "cell_type": "code",
   "execution_count": 20,
   "metadata": {},
   "outputs": [
    {
     "data": {
      "text/plain": [
       "(-5.4548232923642983, 1.2053160207792869e-07)"
      ]
     },
     "execution_count": 20,
     "metadata": {},
     "output_type": "execute_result"
    }
   ],
   "source": [
    "t_test(MF_temp, H_0, tails=0)"
   ]
  },
  {
   "cell_type": "code",
   "execution_count": 21,
   "metadata": {},
   "outputs": [
    {
     "data": {
      "text/plain": [
       "0.9750840437071584"
      ]
     },
     "execution_count": 21,
     "metadata": {},
     "output_type": "execute_result"
    }
   ],
   "source": [
    "stats.t.cdf(1.98, 129)"
   ]
  },
  {
   "cell_type": "code",
   "execution_count": 22,
   "metadata": {},
   "outputs": [
    {
     "data": {
      "text/plain": [
       "(98.24923076923076,\n",
       " 0.064304416837891024,\n",
       " 98.122002905608028,\n",
       " 98.376458632853499)"
      ]
     },
     "execution_count": 22,
     "metadata": {},
     "output_type": "execute_result"
    }
   ],
   "source": [
    "stats.t.interval(0.95, len(MF_temp)-1, loc=np.mean(MF_temp), scale=stats.sem(MF_temp))\n",
    "mean_confidence_interval_t(MF_temp, confidence=0.95)"
   ]
  },
  {
   "cell_type": "code",
   "execution_count": 23,
   "metadata": {},
   "outputs": [
    {
     "data": {
      "text/plain": [
       "(98.24923076923076,\n",
       " 0.064304416837891024,\n",
       " 98.081108242397576,\n",
       " 98.417353296063951)"
      ]
     },
     "execution_count": 23,
     "metadata": {},
     "output_type": "execute_result"
    }
   ],
   "source": [
    "mean_confidence_interval_t(MF_temp, confidence=0.99)"
   ]
  },
  {
   "cell_type": "code",
   "execution_count": 24,
   "metadata": {
    "scrolled": true
   },
   "outputs": [
    {
     "data": {
      "text/plain": [
       "(98.24923076923076,\n",
       " 0.064304416837891024,\n",
       " 98.032682658320084,\n",
       " 98.465778880141443)"
      ]
     },
     "execution_count": 24,
     "metadata": {},
     "output_type": "execute_result"
    }
   ],
   "source": [
    "mean_confidence_interval_t(MF_temp, confidence=0.999)"
   ]
  },
  {
   "cell_type": "code",
   "execution_count": 25,
   "metadata": {},
   "outputs": [
    {
     "data": {
      "text/plain": [
       "98.25"
      ]
     },
     "execution_count": 25,
     "metadata": {},
     "output_type": "execute_result"
    }
   ],
   "source": [
    "precision(all_stats['temperature']['mean'], 2)"
   ]
  },
  {
   "cell_type": "code",
   "execution_count": 26,
   "metadata": {},
   "outputs": [
    {
     "data": {
      "text/plain": [
       "98.39"
      ]
     },
     "execution_count": 26,
     "metadata": {},
     "output_type": "execute_result"
    }
   ],
   "source": [
    "precision(F_stats['mean'], 2)"
   ]
  },
  {
   "cell_type": "code",
   "execution_count": 27,
   "metadata": {},
   "outputs": [
    {
     "data": {
      "text/plain": [
       "98.1"
      ]
     },
     "execution_count": 27,
     "metadata": {},
     "output_type": "execute_result"
    }
   ],
   "source": [
    "precision(M_stats['mean'], 2)"
   ]
  },
  {
   "cell_type": "code",
   "execution_count": 28,
   "metadata": {},
   "outputs": [
    {
     "data": {
      "text/plain": [
       "(2.2854345381654992, 0.023931883122402242)"
      ]
     },
     "execution_count": 28,
     "metadata": {},
     "output_type": "execute_result"
    }
   ],
   "source": [
    "t_test_2sample(F_temp, M_temp, tails=2, paired=0)"
   ]
  },
  {
   "cell_type": "code",
   "execution_count": 29,
   "metadata": {},
   "outputs": [
    {
     "data": {
      "text/plain": [
       "(98.24923076923076,\n",
       " 0.064304416837891024,\n",
       " 98.123196428181643,\n",
       " 98.375265110279884)"
      ]
     },
     "execution_count": 29,
     "metadata": {},
     "output_type": "execute_result"
    }
   ],
   "source": [
    "stats.norm.interval(0.95, loc=np.mean(MF_temp), scale=stats.sem(MF_temp))\n",
    "mean_confidence_interval_norm(MF_temp, confidence=0.95)"
   ]
  },
  {
   "cell_type": "code",
   "execution_count": 30,
   "metadata": {},
   "outputs": [
    {
     "data": {
      "text/plain": [
       "(98.24923076923076,\n",
       " 0.064304416837891024,\n",
       " 98.083593567992096,\n",
       " 98.41486797046943)"
      ]
     },
     "execution_count": 30,
     "metadata": {},
     "output_type": "execute_result"
    }
   ],
   "source": [
    "stats.norm.interval(0.99, loc=np.mean(MF_temp), scale=stats.sem(MF_temp))\n",
    "mean_confidence_interval_norm(MF_temp, confidence=0.99)"
   ]
  },
  {
   "cell_type": "code",
   "execution_count": 31,
   "metadata": {},
   "outputs": [
    {
     "data": {
      "text/plain": [
       "(98.24923076923076,\n",
       " 0.064304416837891024,\n",
       " 98.037635366672689,\n",
       " 98.460826171788838)"
      ]
     },
     "execution_count": 31,
     "metadata": {},
     "output_type": "execute_result"
    }
   ],
   "source": [
    "stats.norm.interval(0.999, loc=np.mean(MF_temp), scale=stats.sem(MF_temp))\n",
    "mean_confidence_interval_norm(MF_temp, confidence=0.999)"
   ]
  }
 ],
 "metadata": {
  "kernelspec": {
   "display_name": "Python 3",
   "language": "python",
   "name": "python3"
  },
  "language_info": {
   "codemirror_mode": {
    "name": "ipython",
    "version": 3
   },
   "file_extension": ".py",
   "mimetype": "text/x-python",
   "name": "python",
   "nbconvert_exporter": "python",
   "pygments_lexer": "ipython3",
   "version": "3.6.3"
  }
 },
 "nbformat": 4,
 "nbformat_minor": 1
}
